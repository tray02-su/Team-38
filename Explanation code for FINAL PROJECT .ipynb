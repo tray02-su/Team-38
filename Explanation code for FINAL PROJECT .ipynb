{
 "cells": [
  {
   "cell_type": "code",
   "execution_count": null,
   "metadata": {},
   "outputs": [],
   "source": [
    "\"\"\"\n",
    "This code was supposed to show the google map api and then help you find your location based on ones longitude and latitude.  There was supposed to be another line with the radial area that the user was willing to travel within, but that was never written or executed.  \n",
    "\"\"\"\n",
    "\n",
    "import requests\n",
    "url = 'https://maps.googleapis.com/maps/api/geocode/json'\n",
    "params = {'sensor': 'false', 'address': 'Mountain View, CA'}\n",
    "r = requests.get(url, params=params)\n",
    "results = r.json()['results']\n",
    "location = results[1]['geometry']['location']\n",
    "location['lat'], location['lng']"
   ]
  },
  {
   "cell_type": "code",
   "execution_count": null,
   "metadata": {},
   "outputs": [],
   "source": [
    "\"\"\n",
    "this portion of the code was supposed to examin the ticketmaster API to help us figure out local events based on the location defined above.  \n",
    "\"\"\n",
    "\n",
    "\n",
    "import requests\n",
    "url = \"https://app.ticketmaster.com/discovery/v2/events.json\"\n",
    "params = {\n",
    "    \"size\": 1,\n",
    "    \"apikey\": \"G8G0dVcWAqSAbxHM2K4Y0I0JwYXG3rIb\",\n",
    "    \"latlong\":\"43.0481,76.1474\",\n",
    "    \"radius\": 300\n",
    "}\n",
    "response = requests.get(url, params=params)\n",
    "print(response.json())"
   ]
  },
  {
   "cell_type": "code",
   "execution_count": null,
   "metadata": {},
   "outputs": [],
   "source": [
    "\"\"\"\"\"\"\n",
    "This code is showing us a list of events whether it be a sporting event or a concert and shows the events is the chosen lat and long. It also shows the venue, date, and price of the ticket.\n",
    "\"\"\"\"\"\"\n",
    "\n",
    "\n",
    "import pandas as pd\n",
    "import requests\n",
    "\n",
    "url = \"https://app.ticketmaster.com/discovery/v2/events.json\"\n",
    "params = {\n",
    "    \"apikey\": 'G8G0dVcWAqSAbxHM2K4Y0I0JwYXG3rIb',\n",
    "    \"size\": 10,\n",
    "    \"latlong\": '43.0481,76.1474'\n",
    "}\n",
    "\n",
    "response = requests.get(url, params=params)\n",
    "print(response.url)\n",
    "data = response.json()\n",
    "\n",
    "tickets = pd.DataFrame(data=data[\"_embedded\"][\"events\"])\n",
    "tickets\n",
    "print(tickets)"
   ]
  },
  {
   "cell_type": "code",
   "execution_count": null,
   "metadata": {},
   "outputs": [],
   "source": [
    "\"\"\"\"\"\"\n",
    "Same as above for the most part. Shows that concert are more than 50 dollars and that sporting events are less than 50 dollars.\n",
    "\"\"\"\"\"\"\n",
    "tickets = pd.Series(data = ['sporting', 'concert'], name = \"tickets\", dtype='int')\n",
    "tickets\n",
    "loction = ['lat'], location['lng']\n",
    "\n",
    "sporting =\"less than or equal to 50\"\n",
    "concert = \"more than or equal to 50\""
   ]
  },
  {
   "cell_type": "code",
   "execution_count": null,
   "metadata": {},
   "outputs": [],
   "source": [
    "\"\"\n",
    "This portion of code was supposed to set the parameters for the price ranges that the user was willing to pay per ticket.  \n",
    "\"\"\n",
    "\n",
    "num = x\n",
    "if num > 50:\n",
    "    print(num, 'ticket is less than 50 dollars')\n",
    "elif num == 0:\n",
    "    print(num, 'ticket is 50 dollars')\n",
    "else:\n",
    "    print(num, 'ticket is more than 50 dollars')"
   ]
  },
  {
   "cell_type": "code",
   "execution_count": null,
   "metadata": {},
   "outputs": [],
   "source": [
    "\"\"\n",
    "This portion of code was supposed to produce the final output of what was specified in all of the code above. \n",
    "\"\"\n",
    "\n",
    "ticket_list = events[ ['sporting', 'concert'] ][ tickets >= 50 ]\n",
    "ticket_list\n",
    "print(tickets>= 50)"
   ]
  }
 ],
 "metadata": {
  "kernelspec": {
   "display_name": "Python 3",
   "language": "python",
   "name": "python3"
  },
  "language_info": {
   "codemirror_mode": {
    "name": "ipython",
    "version": 3
   },
   "file_extension": ".py",
   "mimetype": "text/x-python",
   "name": "python",
   "nbconvert_exporter": "python",
   "pygments_lexer": "ipython3",
   "version": "3.6.6"
  }
 },
 "nbformat": 4,
 "nbformat_minor": 2
}
