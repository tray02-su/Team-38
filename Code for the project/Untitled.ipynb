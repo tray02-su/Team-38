{
 "cells": [
  {
   "cell_type": "code",
   "execution_count": 12,
   "metadata": {},
   "outputs": [
    {
     "ename": "IndexError",
     "evalue": "list index out of range",
     "output_type": "error",
     "traceback": [
      "\u001b[1;31m---------------------------------------------------------------------------\u001b[0m",
      "\u001b[1;31mIndexError\u001b[0m                                Traceback (most recent call last)",
      "\u001b[1;32m<ipython-input-12-145af9e43e8d>\u001b[0m in \u001b[0;36m<module>\u001b[1;34m\u001b[0m\n\u001b[0;32m      4\u001b[0m \u001b[0mr\u001b[0m \u001b[1;33m=\u001b[0m \u001b[0mrequests\u001b[0m\u001b[1;33m.\u001b[0m\u001b[0mget\u001b[0m\u001b[1;33m(\u001b[0m\u001b[0murl\u001b[0m\u001b[1;33m,\u001b[0m \u001b[0mparams\u001b[0m\u001b[1;33m=\u001b[0m\u001b[0mparams\u001b[0m\u001b[1;33m)\u001b[0m\u001b[1;33m\u001b[0m\u001b[0m\n\u001b[0;32m      5\u001b[0m \u001b[0mresults\u001b[0m \u001b[1;33m=\u001b[0m \u001b[0mr\u001b[0m\u001b[1;33m.\u001b[0m\u001b[0mjson\u001b[0m\u001b[1;33m(\u001b[0m\u001b[1;33m)\u001b[0m\u001b[1;33m[\u001b[0m\u001b[1;34m'results'\u001b[0m\u001b[1;33m]\u001b[0m\u001b[1;33m\u001b[0m\u001b[0m\n\u001b[1;32m----> 6\u001b[1;33m \u001b[0mlocation\u001b[0m \u001b[1;33m=\u001b[0m \u001b[0mresults\u001b[0m\u001b[1;33m[\u001b[0m\u001b[1;36m1\u001b[0m\u001b[1;33m]\u001b[0m\u001b[1;33m[\u001b[0m\u001b[1;34m'geometry'\u001b[0m\u001b[1;33m]\u001b[0m\u001b[1;33m[\u001b[0m\u001b[1;34m'location'\u001b[0m\u001b[1;33m]\u001b[0m\u001b[1;33m\u001b[0m\u001b[0m\n\u001b[0m\u001b[0;32m      7\u001b[0m \u001b[0mlocation\u001b[0m\u001b[1;33m[\u001b[0m\u001b[1;34m'lat'\u001b[0m\u001b[1;33m]\u001b[0m\u001b[1;33m,\u001b[0m \u001b[0mlocation\u001b[0m\u001b[1;33m[\u001b[0m\u001b[1;34m'lng'\u001b[0m\u001b[1;33m]\u001b[0m\u001b[1;33m\u001b[0m\u001b[0m\n",
      "\u001b[1;31mIndexError\u001b[0m: list index out of range"
     ]
    }
   ],
   "source": [
    "import requests\n",
    "url = 'https://maps.googleapis.com/maps/api/geocode/json'\n",
    "params = {'sensor': 'false', 'address': 'Mountain View, CA'}\n",
    "r = requests.get(url, params=params)\n",
    "results = r.json()['results']\n",
    "location = results[1]['geometry']['location']\n",
    "location['lat'], location['lng']"
   ]
  },
  {
   "cell_type": "code",
   "execution_count": 1,
   "metadata": {},
   "outputs": [
    {
     "name": "stdout",
     "output_type": "stream",
     "text": [
      "enter radius of buffer zone25\n"
     ]
    }
   ],
   "source": []
  },
  {
   "cell_type": "code",
   "execution_count": 4,
   "metadata": {},
   "outputs": [
    {
     "name": "stdout",
     "output_type": "stream",
     "text": [
      "{'_embedded': {'events': [{'name': 'GHOST - The Ultimate Tour Named Death', 'type': 'event', 'id': 'k7v1k4IkKP-Zd55k', 'test': False, 'url': 'https://ev11.evenue.net/cgi-bin/ncommerce3/SEGetEventList?groupCode=GHOST&linkID=global-gf&shopperContext=&caller=&appCode=', 'locale': 'en-us', 'images': [{'ratio': '16_9', 'url': 'https://s1.ticketm.net/dam/a/696/639da4c0-4449-4b97-82cd-948fe3ee6696_847721_RETINA_LANDSCAPE_16_9.jpg', 'width': 1136, 'height': 639, 'fallback': False}, {'ratio': '16_9', 'url': 'https://s1.ticketm.net/dam/a/696/639da4c0-4449-4b97-82cd-948fe3ee6696_847721_TABLET_LANDSCAPE_LARGE_16_9.jpg', 'width': 2048, 'height': 1152, 'fallback': False}, {'ratio': '4_3', 'url': 'https://s1.ticketm.net/dam/a/696/639da4c0-4449-4b97-82cd-948fe3ee6696_847721_CUSTOM.jpg', 'width': 305, 'height': 225, 'fallback': False}, {'ratio': '3_2', 'url': 'https://s1.ticketm.net/dam/a/696/639da4c0-4449-4b97-82cd-948fe3ee6696_847721_ARTIST_PAGE_3_2.jpg', 'width': 305, 'height': 203, 'fallback': False}, {'ratio': '16_9', 'url': 'https://s1.ticketm.net/dam/a/696/639da4c0-4449-4b97-82cd-948fe3ee6696_847721_TABLET_LANDSCAPE_16_9.jpg', 'width': 1024, 'height': 576, 'fallback': False}, {'ratio': '16_9', 'url': 'https://s1.ticketm.net/dam/a/696/639da4c0-4449-4b97-82cd-948fe3ee6696_847721_EVENT_DETAIL_PAGE_16_9.jpg', 'width': 205, 'height': 115, 'fallback': False}, {'ratio': '16_9', 'url': 'https://s1.ticketm.net/dam/a/696/639da4c0-4449-4b97-82cd-948fe3ee6696_847721_RETINA_PORTRAIT_16_9.jpg', 'width': 640, 'height': 360, 'fallback': False}, {'ratio': '16_9', 'url': 'https://s1.ticketm.net/dam/a/696/639da4c0-4449-4b97-82cd-948fe3ee6696_847721_RECOMENDATION_16_9.jpg', 'width': 100, 'height': 56, 'fallback': False}, {'ratio': '3_2', 'url': 'https://s1.ticketm.net/dam/a/696/639da4c0-4449-4b97-82cd-948fe3ee6696_847721_TABLET_LANDSCAPE_3_2.jpg', 'width': 1024, 'height': 683, 'fallback': False}, {'ratio': '3_2', 'url': 'https://s1.ticketm.net/dam/a/696/639da4c0-4449-4b97-82cd-948fe3ee6696_847721_RETINA_PORTRAIT_3_2.jpg', 'width': 640, 'height': 427, 'fallback': False}], 'distance': 127.51, 'units': 'MILES', 'sales': {'public': {'startDateTime': '2019-04-05T14:00:00Z', 'startTBD': False, 'endDateTime': '2019-10-26T23:30:00Z'}}, 'dates': {'start': {'localDate': '2019-10-26', 'localTime': '19:30:00', 'dateTime': '2019-10-26T23:30:00Z', 'dateTBD': False, 'dateTBA': False, 'timeTBA': False, 'noSpecificTime': False}, 'timezone': 'America/New_York', 'status': {'code': 'onsale'}, 'spanMultipleDays': False}, 'classifications': [{'primary': True, 'segment': {'id': 'KZFzniwnSyZfZ7v7nJ', 'name': 'Music'}, 'genre': {'id': 'KnvZfZ7vAvt', 'name': 'Metal'}, 'subGenre': {'id': 'KZazBEonSMnZfZ7vaJ6', 'name': 'Nu-Metal'}, 'type': {'id': 'KZAyXgnZfZ7v7nI', 'name': 'Undefined'}, 'subType': {'id': 'KZFzBErXgnZfZ7v7lJ', 'name': 'Undefined'}, 'family': False}], 'promoter': {'id': '653', 'name': 'LIVE NATION MUSIC', 'description': 'LIVE NATION MUSIC / NTL / USA'}, 'promoters': [{'id': '653', 'name': 'LIVE NATION MUSIC', 'description': 'LIVE NATION MUSIC / NTL / USA'}, {'id': '4637', 'name': 'FRANK PRODUCTIONS NO FBOE', 'description': 'FRANK PRODUCTIONS NO FBOE / NTL / USA'}, {'id': '4576', 'name': 'LIVE NATION 3PE EVENT', 'description': 'LIVE NATION 3PE EVENT / NTL / USA'}], 'ticketLimit': {'info': 'OFF'}, '_links': {'self': {'href': '/discovery/v2/events/k7v1k4IkKP-Zd55k?locale=en-us'}, 'attractions': [{'href': '/discovery/v2/attractions/K8vZ917ofH0?locale=en-us'}], 'venues': [{'href': '/discovery/v2/venues/KovZ917AOlJ?locale=en-us'}]}, '_embedded': {'venues': [{'name': 'Cool Insuring Arena ', 'type': 'venue', 'id': 'KovZ917AOlJ', 'test': False, 'url': 'https://www.ticketmaster.com/cool-insuring-arena-tickets-glens-falls/venue/1501', 'locale': 'en-us', 'distance': 127.51, 'units': 'MILES', 'postalCode': '12801', 'timezone': 'America/New_York', 'city': {'name': 'Glens Falls'}, 'state': {'name': 'New York', 'stateCode': 'NY'}, 'country': {'name': 'United States Of America', 'countryCode': 'US'}, 'address': {'line1': '1 Civic Center Plaza'}, 'location': {'longitude': '73.6419', 'latitude': '43.3082'}, 'markets': [{'name': 'Upstate New York', 'id': '44'}], 'dmas': [{'id': 213}, {'id': 231}, {'id': 237}, {'id': 270}, {'id': 372}, {'id': 394}, {'id': 406}, {'id': 410}], 'upcomingEvents': {'_total': 2, 'tmr': 1, 'ticketmaster': 1}, '_links': {'self': {'href': '/discovery/v2/venues/KovZ917AOlJ?locale=en-us'}}}], 'attractions': [{'name': 'GHOST', 'type': 'attraction', 'id': 'K8vZ917ofH0', 'test': False, 'url': 'https://www.ticketmaster.com/ghost-tickets/artist/1878819', 'locale': 'en-us', 'externalLinks': {'musicbrainz': [{'id': '80ced534-a15a-4aa8-bd71-f322df296c87'}]}, 'images': [{'ratio': '16_9', 'url': 'https://s1.ticketm.net/dam/a/696/639da4c0-4449-4b97-82cd-948fe3ee6696_847721_RETINA_LANDSCAPE_16_9.jpg', 'width': 1136, 'height': 639, 'fallback': False}, {'ratio': '16_9', 'url': 'https://s1.ticketm.net/dam/a/696/639da4c0-4449-4b97-82cd-948fe3ee6696_847721_TABLET_LANDSCAPE_LARGE_16_9.jpg', 'width': 2048, 'height': 1152, 'fallback': False}, {'ratio': '4_3', 'url': 'https://s1.ticketm.net/dam/a/696/639da4c0-4449-4b97-82cd-948fe3ee6696_847721_CUSTOM.jpg', 'width': 305, 'height': 225, 'fallback': False}, {'ratio': '3_2', 'url': 'https://s1.ticketm.net/dam/a/696/639da4c0-4449-4b97-82cd-948fe3ee6696_847721_ARTIST_PAGE_3_2.jpg', 'width': 305, 'height': 203, 'fallback': False}, {'ratio': '16_9', 'url': 'https://s1.ticketm.net/dam/a/696/639da4c0-4449-4b97-82cd-948fe3ee6696_847721_TABLET_LANDSCAPE_16_9.jpg', 'width': 1024, 'height': 576, 'fallback': False}, {'ratio': '16_9', 'url': 'https://s1.ticketm.net/dam/a/696/639da4c0-4449-4b97-82cd-948fe3ee6696_847721_EVENT_DETAIL_PAGE_16_9.jpg', 'width': 205, 'height': 115, 'fallback': False}, {'ratio': '16_9', 'url': 'https://s1.ticketm.net/dam/a/696/639da4c0-4449-4b97-82cd-948fe3ee6696_847721_RETINA_PORTRAIT_16_9.jpg', 'width': 640, 'height': 360, 'fallback': False}, {'ratio': '16_9', 'url': 'https://s1.ticketm.net/dam/a/696/639da4c0-4449-4b97-82cd-948fe3ee6696_847721_RECOMENDATION_16_9.jpg', 'width': 100, 'height': 56, 'fallback': False}, {'ratio': '3_2', 'url': 'https://s1.ticketm.net/dam/a/696/639da4c0-4449-4b97-82cd-948fe3ee6696_847721_TABLET_LANDSCAPE_3_2.jpg', 'width': 1024, 'height': 683, 'fallback': False}, {'ratio': '3_2', 'url': 'https://s1.ticketm.net/dam/a/696/639da4c0-4449-4b97-82cd-948fe3ee6696_847721_RETINA_PORTRAIT_3_2.jpg', 'width': 640, 'height': 427, 'fallback': False}], 'classifications': [{'primary': True, 'segment': {'id': 'KZFzniwnSyZfZ7v7nJ', 'name': 'Music'}, 'genre': {'id': 'KnvZfZ7vAvt', 'name': 'Metal'}, 'subGenre': {'id': 'KZazBEonSMnZfZ7vkFd', 'name': 'Heavy Metal'}, 'type': {'id': 'KZAyXgnZfZ7v7nI', 'name': 'Undefined'}, 'subType': {'id': 'KZFzBErXgnZfZ7v7lJ', 'name': 'Undefined'}, 'family': False}], 'upcomingEvents': {'_total': 52, 'mfx-dk': 1, 'tmr': 10, 'mfx-es': 8, 'ticketmaster': 32, 'mfx-be': 1}, '_links': {'self': {'href': '/discovery/v2/attractions/K8vZ917ofH0?locale=en-us'}}}]}}]}, '_links': {'first': {'href': '/discovery/v2/events.json?latlong=43.0481%2C76.1474&radius=300&page=0&size=1'}, 'self': {'href': '/discovery/v2/events.json?size=1&latlong=43.0481%2C76.1474&radius=300'}, 'next': {'href': '/discovery/v2/events.json?latlong=43.0481%2C76.1474&radius=300&page=1&size=1'}, 'last': {'href': '/discovery/v2/events.json?latlong=43.0481%2C76.1474&radius=300&page=3&size=1'}}, 'page': {'size': 1, 'totalElements': 4, 'totalPages': 4, 'number': 0}}\n"
     ]
    }
   ],
   "source": [
    "import requests\n",
    "url = \"https://app.ticketmaster.com/discovery/v2/events.json\"\n",
    "params = {\n",
    "    \"size\": 1,\n",
    "    \"apikey\": \"G8G0dVcWAqSAbxHM2K4Y0I0JwYXG3rIb\",\n",
    "    \"latlong\":\"43.0481,76.1474\",\n",
    "    \"radius\": 300\n",
    "}\n",
    "response = requests.get(url, params=params)\n",
    "print(response.json())"
   ]
  },
  {
   "cell_type": "code",
   "execution_count": 3,
   "metadata": {},
   "outputs": [
    {
     "ename": "NameError",
     "evalue": "name 'number' is not defined",
     "output_type": "error",
     "traceback": [
      "\u001b[1;31m---------------------------------------------------------------------------\u001b[0m",
      "\u001b[1;31mNameError\u001b[0m                                 Traceback (most recent call last)",
      "\u001b[1;32m<ipython-input-3-aeb3c380e5d9>\u001b[0m in \u001b[0;36m<module>\u001b[1;34m\u001b[0m\n\u001b[1;32m----> 1\u001b[1;33m \u001b[0mx\u001b[0m \u001b[1;33m=\u001b[0m \u001b[0mnumber\u001b[0m\u001b[1;33m\u001b[0m\u001b[0m\n\u001b[0m\u001b[0;32m      2\u001b[0m \u001b[1;32mif\u001b[0m \u001b[0mnumber\u001b[0m \u001b[1;33m>\u001b[0m \u001b[1;36m50\u001b[0m\u001b[1;33m:\u001b[0m\u001b[1;33m\u001b[0m\u001b[0m\n\u001b[0;32m      3\u001b[0m     \u001b[0mprint\u001b[0m\u001b[1;33m(\u001b[0m\u001b[0mnumber\u001b[0m\u001b[1;33m,\u001b[0m \u001b[1;34m'ticket is less than 50 dollars'\u001b[0m\u001b[1;33m)\u001b[0m\u001b[1;33m\u001b[0m\u001b[0m\n\u001b[0;32m      4\u001b[0m \u001b[1;32melif\u001b[0m \u001b[0mnumber\u001b[0m \u001b[1;33m==\u001b[0m \u001b[1;36m50\u001b[0m\u001b[1;33m:\u001b[0m\u001b[1;33m\u001b[0m\u001b[0m\n\u001b[0;32m      5\u001b[0m     \u001b[0mprint\u001b[0m\u001b[1;33m(\u001b[0m\u001b[0mnumber\u001b[0m\u001b[1;33m,\u001b[0m \u001b[1;34m'ticket is 50 dollars'\u001b[0m\u001b[1;33m)\u001b[0m\u001b[1;33m\u001b[0m\u001b[0m\n",
      "\u001b[1;31mNameError\u001b[0m: name 'number' is not defined"
     ]
    }
   ],
   "source": [
    "x = number\n",
    "if number > 50:\n",
    "    print(number, 'ticket is less than 50 dollars')\n",
    "elif number == 50:\n",
    "    print(number, 'ticket is 50 dollars')\n",
    "else:\n",
    "    print(number, 'ticket is more than 50 dollars')"
   ]
  },
  {
   "cell_type": "code",
   "execution_count": null,
   "metadata": {},
   "outputs": [],
   "source": []
  }
 ],
 "metadata": {
  "kernelspec": {
   "display_name": "Python 3",
   "language": "python",
   "name": "python3"
  },
  "language_info": {
   "codemirror_mode": {
    "name": "ipython",
    "version": 3
   },
   "file_extension": ".py",
   "mimetype": "text/x-python",
   "name": "python",
   "nbconvert_exporter": "python",
   "pygments_lexer": "ipython3",
   "version": "3.6.6"
  }
 },
 "nbformat": 4,
 "nbformat_minor": 2
}
